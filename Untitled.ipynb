{
 "cells": [
  {
   "cell_type": "code",
   "execution_count": 11,
   "id": "enhanced-shepherd",
   "metadata": {},
   "outputs": [],
   "source": [
    "#Change from master: img_bin is now a stack of 2D .tiffs\n",
    "import numpy as np\n",
    "import cv2 as cv\n",
    "import skel_ID\n",
    "from skimage import io\n",
    "import imageio\n",
    "from skimage.morphology import skeletonize\n",
    "# rebuilding the binary image as a boolean for skeletonizing\n",
    "skeleton = []\n",
    "skel_int = []\n",
    "bool_plane=[]\n",
    "i=0\n",
    "\n",
    "img = cv.imread('final.png',cv.IMREAD_GRAYSCALE)\n",
    "img_bin = (img,img,img,img)\n",
    "\n",
    "for plane in img_bin:\n",
    "    # making the initial skeleton image, then getting x and y coords of all branch points and endpoints\n",
    "    plane = (plane/255).astype(np.bool)\n",
    "    skeleton.append(skeletonize(plane))\n",
    "    skel_int.append(1*skeleton[i])\n",
    "    i+=1\n",
    "    \n"
   ]
  }
 ],
 "metadata": {
  "kernelspec": {
   "display_name": "Python 3",
   "language": "python",
   "name": "python3"
  },
  "language_info": {
   "codemirror_mode": {
    "name": "ipython",
    "version": 3
   },
   "file_extension": ".py",
   "mimetype": "text/x-python",
   "name": "python",
   "nbconvert_exporter": "python",
   "pygments_lexer": "ipython3",
   "version": "3.9.1"
  }
 },
 "nbformat": 4,
 "nbformat_minor": 5
}
