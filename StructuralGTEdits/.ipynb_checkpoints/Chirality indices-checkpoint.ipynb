{
 "cells": [
  {
   "cell_type": "code",
   "execution_count": 15,
   "id": "divided-working",
   "metadata": {},
   "outputs": [
    {
     "data": {
      "text/plain": [
       "229"
      ]
     },
     "execution_count": 15,
     "metadata": {},
     "output_type": "execute_result"
    }
   ],
   "source": [
    "n.Gr.vcount()"
   ]
  },
  {
   "cell_type": "code",
   "execution_count": 25,
   "id": "joined-norman",
   "metadata": {},
   "outputs": [],
   "source": [
    "import network\n",
    "import base\n",
    "import numpy as np"
   ]
  },
  {
   "cell_type": "code",
   "execution_count": 36,
   "id": "lovely-romance",
   "metadata": {},
   "outputs": [],
   "source": [
    "def gyration_moments_2(G, weighted=True, sampling=1):\n",
    "#Serial implementation\n",
    "    Ax=0\n",
    "    Ay=0\n",
    "    ratio = 0\n",
    "    node_count = np.asarray(list(range(G.vcount())))\n",
    "    mask = np.random.rand(G.vcount()) > (1-sampling)\n",
    "    trimmed_node_count = node_count[mask]\n",
    "    for i in trimmed_node_count:\n",
    "        for j in trimmed_node_count:\n",
    "            if i >= j:    #Symetric matrix\n",
    "                continue\n",
    "            path = G.get_shortest_paths(i,to=j)\n",
    "            Ax_term = 0\n",
    "            Ay_term = 0\n",
    "            ratio_term = 0\n",
    "            for hop_s,hop_t in zip(path[0][0:-1],path[0][1::]):\n",
    "                if weighted:\n",
    "                    weight = G.es[G.get_eid(hop_s,hop_t)]['weight']\n",
    "                else:\n",
    "                    weight = 1\n",
    "                Ax_term = Ax_term + ((weight*(int(G.vs[hop_s]['o'][0])-int(G.vs[hop_t]['o'][0]))))\n",
    "                Ay_term = Ay_term + ((weight*(int(G.vs[hop_s]['o'][1])-int(G.vs[hop_t]['o'][1]))))\n",
    "                try:\n",
    "                    ratio_term = Ax_term/Ay_term\n",
    "                except ZeroDivisionError:\n",
    "                    pass\n",
    "            ratio = ratio + ratio_term\n",
    "\n",
    "    return ratio"
   ]
  },
  {
   "cell_type": "code",
   "execution_count": 39,
   "id": "handed-charter",
   "metadata": {},
   "outputs": [
    {
     "name": "stdout",
     "output_type": "stream",
     "text": [
      "[[   0    1  360]\n",
      " [   0    1  361]\n",
      " [   0    1  754]\n",
      " ...\n",
      " [   0 1756  560]\n",
      " [   0 1756 1110]\n",
      " [   0 1756 1540]]\n",
      "(1757, 2047)\n",
      "Ran stack_to_gsd() in  1.427191972732544 for gsd with  51809 particles\n",
      "gsd_to_G canvas has shape  (1756, 2047)\n",
      "[[  0 756]]\n",
      "(0, 64, array([[  0, 756],\n",
      "       [  0, 755],\n",
      "       [  0, 754],\n",
      "       [  1, 753],\n",
      "       [  2, 752],\n",
      "       [  3, 751],\n",
      "       [  4, 750],\n",
      "       [  5, 749],\n",
      "       [  6, 749],\n",
      "       [  7, 749],\n",
      "       [  8, 749],\n",
      "       [  9, 749],\n",
      "       [ 10, 749],\n",
      "       [ 11, 749],\n",
      "       [ 12, 749],\n",
      "       [ 13, 748],\n",
      "       [ 14, 748],\n",
      "       [ 15, 748],\n",
      "       [ 16, 748],\n",
      "       [ 17, 747],\n",
      "       [ 18, 747],\n",
      "       [ 19, 747],\n",
      "       [ 20, 747],\n",
      "       [ 21, 747],\n",
      "       [ 22, 747],\n",
      "       [ 23, 746],\n",
      "       [ 24, 746],\n",
      "       [ 25, 746],\n",
      "       [ 26, 746]], dtype=int16))\n",
      "Ran gsd_to_G in  4.780318021774292 for a graph with  2474 nodes.\n"
     ]
    },
    {
     "name": "stderr",
     "output_type": "stream",
     "text": [
      "<ipython-input-36-0c415c671abe>:13: RuntimeWarning: Couldn't reach some vertices at src/paths/unweighted.c:367\n",
      "  path = G.get_shortest_paths(i,to=j)\n"
     ]
    },
    {
     "name": "stdout",
     "output_type": "stream",
     "text": [
      "30463.221168637003\n"
     ]
    }
   ],
   "source": [
    "scale = 1\n",
    "img_options = {\"Thresh_method\": 1, \"gamma\": 3.35, \"md_filter\": 1, \"g_blur\": 1, \"autolvl\": 0,\n",
    "               \"fg_color\": 1, \"laplacian\": 0, \"scharr\": 0, \"sobel\": 0, \"lowpass\": 1, \"asize\": int(scale*103)*2+1, \n",
    "               \"bsize\": int(43*scale)*2+1, \"wsize\": int(10*scale)*2+1, \"thresh\": 127}\n",
    "\n",
    "n = network.Network('TestData/Mxene/1mirror')\n",
    "n.binarize(options_dict=img_options)\n",
    "n.stack_to_gsd()#crop=[0,100,0,100])\n",
    "n.G_u()\n",
    "#n.Gr = base.sub_G(n.Gr)\n",
    "\n",
    "r= gyration_moments_2(n.Gr, weighted=False, sampling=1)\n",
    "print(r)"
   ]
  },
  {
   "cell_type": "code",
   "execution_count": 38,
   "id": "moral-deposit",
   "metadata": {},
   "outputs": [
    {
     "name": "stdout",
     "output_type": "stream",
     "text": [
      "[[   0    1 1290]\n",
      " [   0    1 1291]\n",
      " [   0    1 1292]\n",
      " ...\n",
      " [   0 1756 1834]\n",
      " [   0 1756 1888]\n",
      " [   0 1756 1894]]\n",
      "(1757, 2047)\n",
      "Ran stack_to_gsd() in  1.425156831741333 for gsd with  51870 particles\n",
      "gsd_to_G canvas has shape  (1756, 2047)\n",
      "[[   0 1290]]\n",
      "(0, 65, array([[   0, 1290],\n",
      "       [   0, 1291],\n",
      "       [   0, 1292],\n",
      "       [   1, 1293],\n",
      "       [   2, 1294],\n",
      "       [   3, 1295],\n",
      "       [   4, 1296],\n",
      "       [   5, 1297],\n",
      "       [   6, 1297],\n",
      "       [   7, 1297],\n",
      "       [   8, 1296],\n",
      "       [   9, 1296],\n",
      "       [  10, 1297],\n",
      "       [  11, 1297],\n",
      "       [  12, 1297],\n",
      "       [  13, 1297],\n",
      "       [  14, 1298],\n",
      "       [  15, 1298],\n",
      "       [  16, 1298],\n",
      "       [  17, 1299],\n",
      "       [  18, 1299],\n",
      "       [  19, 1299],\n",
      "       [  20, 1299],\n",
      "       [  21, 1299],\n",
      "       [  22, 1299],\n",
      "       [  23, 1299],\n",
      "       [  24, 1299],\n",
      "       [  25, 1300],\n",
      "       [  26, 1300]], dtype=int16))\n",
      "Ran gsd_to_G in  4.792821884155273 for a graph with  2463 nodes.\n"
     ]
    },
    {
     "name": "stderr",
     "output_type": "stream",
     "text": [
      "<ipython-input-36-0c415c671abe>:13: RuntimeWarning: Couldn't reach some vertices at src/paths/unweighted.c:367\n",
      "  path = G.get_shortest_paths(i,to=j)\n"
     ]
    },
    {
     "name": "stdout",
     "output_type": "stream",
     "text": [
      "-30440.90479732852\n"
     ]
    }
   ],
   "source": [
    "scale = 1\n",
    "img_options = {\"Thresh_method\": 1, \"gamma\": 3.35, \"md_filter\": 1, \"g_blur\": 1, \"autolvl\": 0,\n",
    "               \"fg_color\": 1, \"laplacian\": 0, \"scharr\": 0, \"sobel\": 0, \"lowpass\": 1, \"asize\": int(scale*103)*2+1, \n",
    "               \"bsize\": int(43*scale)*2+1, \"wsize\": int(10*scale)*2+1, \"thresh\": 127}\n",
    "\n",
    "n = network.Network('TestData/Mxene/1')\n",
    "n.binarize(options_dict=img_options)\n",
    "n.stack_to_gsd()#crop=[0,100,0,100])\n",
    "n.G_u()\n",
    "#n.Gr = base.sub_G(n.Gr)\n",
    "r = gyration_moments_2(n.Gr, weighted=False, sampling=1)\n",
    "print(r)"
   ]
  }
 ],
 "metadata": {
  "kernelspec": {
   "display_name": "Python 3",
   "language": "python",
   "name": "python3"
  },
  "language_info": {
   "codemirror_mode": {
    "name": "ipython",
    "version": 3
   },
   "file_extension": ".py",
   "mimetype": "text/x-python",
   "name": "python",
   "nbconvert_exporter": "python",
   "pygments_lexer": "ipython3",
   "version": "3.9.1"
  }
 },
 "nbformat": 4,
 "nbformat_minor": 5
}
